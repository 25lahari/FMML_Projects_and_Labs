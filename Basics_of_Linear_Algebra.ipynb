{
  "nbformat": 4,
  "nbformat_minor": 0,
  "metadata": {
    "colab": {
      "provenance": [],
      "authorship_tag": "ABX9TyOMaOTkduFS+z6ynYOK95Av",
      "include_colab_link": true
    },
    "kernelspec": {
      "name": "python3",
      "display_name": "Python 3"
    },
    "language_info": {
      "name": "python"
    }
  },
  "cells": [
    {
      "cell_type": "markdown",
      "metadata": {
        "id": "view-in-github",
        "colab_type": "text"
      },
      "source": [
        "<a href=\"https://colab.research.google.com/github/25lahari/FMML_Projects_and_Labs/blob/main/Basics_of_Linear_Algebra.ipynb\" target=\"_parent\"><img src=\"https://colab.research.google.com/assets/colab-badge.svg\" alt=\"Open In Colab\"/></a>"
      ]
    },
    {
      "cell_type": "code",
      "execution_count": null,
      "metadata": {
        "id": "Gvs4kQ4UWNw8"
      },
      "outputs": [],
      "source": []
    },
    {
      "cell_type": "code",
      "source": [
        "import numpy as np\n",
        "import matplotlib.pyplot as plt"
      ],
      "metadata": {
        "id": "a3jP6-PkWpWL"
      },
      "execution_count": 1,
      "outputs": []
    },
    {
      "cell_type": "code",
      "source": [
        "mat1 = np.array([[1,2,3],[1,2,3]])\n",
        "mat2 = np.array([[3,2,1],[3,2,1]])\n",
        "print(mat1+mat2)"
      ],
      "metadata": {
        "colab": {
          "base_uri": "https://localhost:8080/"
        },
        "id": "somU1qMeW7Xb",
        "outputId": "ff57a05b-f28d-490d-da93-7b4b6580be85"
      },
      "execution_count": 2,
      "outputs": [
        {
          "output_type": "stream",
          "name": "stdout",
          "text": [
            "[[4 4 4]\n",
            " [4 4 4]]\n"
          ]
        }
      ]
    },
    {
      "cell_type": "code",
      "source": [
        "mat1 = np.array([[1,2,3],[1,2,3]])\n",
        "mat2 = np.array([[1,2],[1,2],[1,2]])\n",
        "mat2 = mat2.reshape((2, 3))\n",
        "print(mat1*mat2)"
      ],
      "metadata": {
        "colab": {
          "base_uri": "https://localhost:8080/"
        },
        "id": "vYG9to5HXXbG",
        "outputId": "abfeed5f-9bde-47d8-8f81-538079315aa8"
      },
      "execution_count": 4,
      "outputs": [
        {
          "output_type": "stream",
          "name": "stdout",
          "text": [
            "[[1 4 3]\n",
            " [2 2 6]]\n"
          ]
        }
      ]
    },
    {
      "cell_type": "code",
      "source": [
        "mat1 = np.array([[1,2,3],[1,2,3]])\n",
        "mat2 = np.array([[1,2],[1,2],[1,2]])\n",
        "\n",
        "# Perform matrix multiplication using np.dot()\n",
        "print(np.dot(mat1, mat2))"
      ],
      "metadata": {
        "colab": {
          "base_uri": "https://localhost:8080/"
        },
        "id": "yZAIc9EYk-JR",
        "outputId": "f0189361-80b5-4664-bd8c-fb62850687df"
      },
      "execution_count": 5,
      "outputs": [
        {
          "output_type": "stream",
          "name": "stdout",
          "text": [
            "[[ 6 12]\n",
            " [ 6 12]]\n"
          ]
        }
      ]
    },
    {
      "cell_type": "code",
      "source": [
        "a = [[1,2,3],[2,3,4],[4,2,4],[3,0,3]]\n",
        "b = np.transpose(a)\n",
        "print('a\\n',a)\n",
        "print('b\\n',b)"
      ],
      "metadata": {
        "colab": {
          "base_uri": "https://localhost:8080/"
        },
        "id": "O0ewt8c-lFSw",
        "outputId": "5fd31b7a-753a-4d9b-9679-cb63160a468e"
      },
      "execution_count": 8,
      "outputs": [
        {
          "output_type": "stream",
          "name": "stdout",
          "text": [
            "a\n",
            " [[1, 2, 3], [2, 3, 4], [4, 2, 4], [3, 0, 3]]\n",
            "b\n",
            " [[1 2 4 3]\n",
            " [2 3 2 0]\n",
            " [3 4 4 3]]\n"
          ]
        }
      ]
    },
    {
      "cell_type": "code",
      "source": [
        "# Transpose of a Matrix (as NumPy array)\n",
        "print (\"Matrix and its Transpose\")\n",
        "a = np.array([[1,2,3],[2,3,4],[4,2,4],[3,0,3]])\n",
        "b = a.T\n",
        "print('a\\n',a)\n",
        "print('b\\n',b)"
      ],
      "metadata": {
        "colab": {
          "base_uri": "https://localhost:8080/"
        },
        "id": "acCOujHmldxI",
        "outputId": "7330ef5e-5e9a-411d-8cba-e41840838b34"
      },
      "execution_count": 9,
      "outputs": [
        {
          "output_type": "stream",
          "name": "stdout",
          "text": [
            "Matrix and its Transpose\n",
            "a\n",
            " [[1 2 3]\n",
            " [2 3 4]\n",
            " [4 2 4]\n",
            " [3 0 3]]\n",
            "b\n",
            " [[1 2 4 3]\n",
            " [2 3 2 0]\n",
            " [3 4 4 3]]\n"
          ]
        }
      ]
    },
    {
      "cell_type": "code",
      "source": [
        " a = np.array([1,2,3])\n",
        " b = np.array([1,2,3])\n",
        " z = np.dot(a,b)\n",
        " print(z)"
      ],
      "metadata": {
        "colab": {
          "base_uri": "https://localhost:8080/"
        },
        "id": "1yiGIf8UlvpB",
        "outputId": "f6e19276-67b5-4b22-f46d-f9a3701b375e"
      },
      "execution_count": 10,
      "outputs": [
        {
          "output_type": "stream",
          "name": "stdout",
          "text": [
            "14\n"
          ]
        }
      ]
    },
    {
      "cell_type": "code",
      "source": [
        " a = [[1,2,3],[4,5,3],[0,-5,1]]\n",
        " b = [[-1,-2,5],[3,-6,4], [0,4,4]]\n",
        " z = np.dot(a,b)\n",
        " x = np.matmul(a,b)\n",
        " print(z)\n",
        " print(z==x)"
      ],
      "metadata": {
        "colab": {
          "base_uri": "https://localhost:8080/"
        },
        "id": "e9wLVy1-l9oA",
        "outputId": "611325b0-aae2-4f1e-e5ea-6d90c1cd0cca"
      },
      "execution_count": 12,
      "outputs": [
        {
          "output_type": "stream",
          "name": "stdout",
          "text": [
            "[[  5  -2  25]\n",
            " [ 11 -26  52]\n",
            " [-15  34 -16]]\n",
            "[[ True  True  True]\n",
            " [ True  True  True]\n",
            " [ True  True  True]]\n"
          ]
        }
      ]
    },
    {
      "cell_type": "code",
      "source": [
        " newa = np.array(a)\n",
        " newb = np.array(b)\n",
        " y = newa.dot(newb)\n",
        " print(y)"
      ],
      "metadata": {
        "colab": {
          "base_uri": "https://localhost:8080/"
        },
        "id": "0OB_XV8lmbDA",
        "outputId": "6b32f19b-de90-44fe-a825-16f46e93393d"
      },
      "execution_count": 13,
      "outputs": [
        {
          "output_type": "stream",
          "name": "stdout",
          "text": [
            "[[  5  -2  25]\n",
            " [ 11 -26  52]\n",
            " [-15  34 -16]]\n"
          ]
        }
      ]
    },
    {
      "cell_type": "code",
      "source": [
        " a = np.random.randint(-4,4,(500,5))\n",
        " b = np.random.randint(-4,4,(5,1000))\n",
        " c = np.random.randint(-4,4,(1000,10))\n",
        " d = np.random.randint(-4,4,(10,2000))\n",
        " e = np.random.randint(-4,4,(2000,200))\n",
        " # Perform multiple matrix multiplication\n",
        " z = np.linalg.multi_dot([a,b,c,d,e])\n",
        " print(z)"
      ],
      "metadata": {
        "colab": {
          "base_uri": "https://localhost:8080/"
        },
        "id": "2n4mQdSfmv24",
        "outputId": "a1efcfbe-0ccf-462f-e98b-ab9eecea88a8"
      },
      "execution_count": 15,
      "outputs": [
        {
          "output_type": "stream",
          "name": "stdout",
          "text": [
            "[[-10320062  -7547457  -8714409 ...  -7786658 -11667844  -9075151]\n",
            " [ -2594394  -1674301  -1956350 ...  -1647883  -2123253  -2094788]\n",
            " [  2815716   1670286   2320992 ...   1373007   3394770   2764293]\n",
            " ...\n",
            " [ -5325962  -3311401  -4046128 ...  -3811089  -5825013  -5049206]\n",
            " [ -4596047  -3240350  -3852370 ...  -3288739  -5321326  -4145267]\n",
            " [ -9697386  -6470796  -7733538 ...  -6848060 -10521140  -8762388]]\n"
          ]
        }
      ]
    },
    {
      "cell_type": "code",
      "source": [
        "%%time\n",
        "z = np.linalg.multi_dot([a,b,c,d,e])\n",
        "print(z, '\\n')"
      ],
      "metadata": {
        "colab": {
          "base_uri": "https://localhost:8080/"
        },
        "id": "f9fOrtw5vFjD",
        "outputId": "79c707b7-a03f-4d68-a387-fdbe18a36fce"
      },
      "execution_count": 16,
      "outputs": [
        {
          "output_type": "stream",
          "name": "stdout",
          "text": [
            "[[-10320062  -7547457  -8714409 ...  -7786658 -11667844  -9075151]\n",
            " [ -2594394  -1674301  -1956350 ...  -1647883  -2123253  -2094788]\n",
            " [  2815716   1670286   2320992 ...   1373007   3394770   2764293]\n",
            " ...\n",
            " [ -5325962  -3311401  -4046128 ...  -3811089  -5825013  -5049206]\n",
            " [ -4596047  -3240350  -3852370 ...  -3288739  -5321326  -4145267]\n",
            " [ -9697386  -6470796  -7733538 ...  -6848060 -10521140  -8762388]] \n",
            "\n",
            "CPU times: user 11.3 ms, sys: 977 µs, total: 12.3 ms\n",
            "Wall time: 11.9 ms\n"
          ]
        }
      ]
    },
    {
      "cell_type": "code",
      "source": [
        "%%time\n",
        "z = a.dot(b).dot(c).dot(d).dot(e)\n",
        "print(z, '\\n')\n"
      ],
      "metadata": {
        "colab": {
          "base_uri": "https://localhost:8080/"
        },
        "id": "irErf0lrvKOS",
        "outputId": "252138a0-9985-40b7-c32e-2f5012f38479"
      },
      "execution_count": 17,
      "outputs": [
        {
          "output_type": "stream",
          "name": "stdout",
          "text": [
            "[[-10320062  -7547457  -8714409 ...  -7786658 -11667844  -9075151]\n",
            " [ -2594394  -1674301  -1956350 ...  -1647883  -2123253  -2094788]\n",
            " [  2815716   1670286   2320992 ...   1373007   3394770   2764293]\n",
            " ...\n",
            " [ -5325962  -3311401  -4046128 ...  -3811089  -5825013  -5049206]\n",
            " [ -4596047  -3240350  -3852370 ...  -3288739  -5321326  -4145267]\n",
            " [ -9697386  -6470796  -7733538 ...  -6848060 -10521140  -8762388]] \n",
            "\n",
            "CPU times: user 309 ms, sys: 6.1 ms, total: 315 ms\n",
            "Wall time: 317 ms\n"
          ]
        }
      ]
    },
    {
      "cell_type": "code",
      "source": [
        "a = np.array([[1,-2,3], [4,-1,0]])\n",
        "b = np.array([6,3,2])\n",
        "z = np.inner(a,b)\n",
        "print(z)"
      ],
      "metadata": {
        "colab": {
          "base_uri": "https://localhost:8080/"
        },
        "id": "HbtCWdVOvTtq",
        "outputId": "ecee8846-7432-450a-9611-6cd32ca36280"
      },
      "execution_count": 18,
      "outputs": [
        {
          "output_type": "stream",
          "name": "stdout",
          "text": [
            "[18 21]\n"
          ]
        }
      ]
    },
    {
      "cell_type": "code",
      "source": [
        "a.dot(b.T)"
      ],
      "metadata": {
        "colab": {
          "base_uri": "https://localhost:8080/"
        },
        "id": "Gh4LzZ6avyLl",
        "outputId": "de0c62a0-ba0a-4d09-86b2-df5e91acdab1"
      },
      "execution_count": 19,
      "outputs": [
        {
          "output_type": "execute_result",
          "data": {
            "text/plain": [
              "array([18, 21])"
            ]
          },
          "metadata": {},
          "execution_count": 19
        }
      ]
    },
    {
      "cell_type": "code",
      "source": [
        " a = np.array([1,2,3,4,5])\n",
        " b = np.array([7,3,9])\n",
        " z = np.outer(a,b)\n",
        " print(z)"
      ],
      "metadata": {
        "colab": {
          "base_uri": "https://localhost:8080/"
        },
        "id": "29zaWCXqv3gT",
        "outputId": "645eed79-97f9-474d-c713-5578c482bdf5"
      },
      "execution_count": 20,
      "outputs": [
        {
          "output_type": "stream",
          "name": "stdout",
          "text": [
            "[[ 7  3  9]\n",
            " [14  6 18]\n",
            " [21  9 27]\n",
            " [28 12 36]\n",
            " [35 15 45]]\n"
          ]
        }
      ]
    },
    {
      "cell_type": "code",
      "source": [
        " # Here, 'a' matrix is 3D, which means there are 3 matrices each of 2x5 size\n",
        " # Similarly, for 'b' matrix\n",
        " # So we perform 3 matrix multiplication operations each with 2x5 and 5x3 matrices from a and b\n",
        " a = np.random.random([5,2,4])\n",
        " b = np.random.random([5,4,5])\n",
        " z = a @ b\n",
        " print(z.shape)"
      ],
      "metadata": {
        "colab": {
          "base_uri": "https://localhost:8080/"
        },
        "id": "V4j4WA4nv_ai",
        "outputId": "1d47e6fd-fbad-469c-c000-ebd0b4780982"
      },
      "execution_count": 22,
      "outputs": [
        {
          "output_type": "stream",
          "name": "stdout",
          "text": [
            "(5, 2, 5)\n"
          ]
        }
      ]
    },
    {
      "cell_type": "code",
      "source": [
        " a = np.random.randint(1,26,[5,5])\n",
        " det = np.linalg.det(a)\n",
        " print(int(det))"
      ],
      "metadata": {
        "colab": {
          "base_uri": "https://localhost:8080/"
        },
        "id": "yDDRy-wtwb6q",
        "outputId": "391b3f67-72d5-4a14-c980-5afd6bc090a1"
      },
      "execution_count": 23,
      "outputs": [
        {
          "output_type": "stream",
          "name": "stdout",
          "text": [
            "-377801\n"
          ]
        }
      ]
    }
  ]
}